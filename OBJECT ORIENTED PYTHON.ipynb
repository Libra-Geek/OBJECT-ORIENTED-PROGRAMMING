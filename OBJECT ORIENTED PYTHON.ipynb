{
 "cells": [
  {
   "cell_type": "markdown",
   "metadata": {},
   "source": [
    "# INTRODUCTION\n",
    "\n",
    "\n",
    "- In the previous lessons, we have only used and learnt about Python in the procedural way i.e. **Procedural Programming**. It is time to divert from this and use Python in its true form.\n",
    "\n",
    "\n",
    "- As a reminder, **Procedural Programming** is only a process of writing codes in a sequential number of steps. This is the way we have written our codes over previous exercises and we make use of functions - in-built or bespoke- to run these commands.\n",
    "\n",
    "\n",
    "- **Object-Oriented Programming** is the new approach we want to employ in using Python. This approach involves us centering our codes around objects. So, instead of assigning our codes to sequential steps and variables, we assign them to objects. We need to know our way around the OOP technique because Python itself is an object-oriented language.\n",
    "\n",
    "\n",
    "- As we continously work with Python, we would encounter objects including NumPy, Pandas, Scikit and Matplotlib. Understanding how these objects work as well as others helps us to better manage the data that we work with.\n",
    "\n",
    "\n",
    "- In Procedural Programming, we assigned our codes to variables which had **types**  namely:\n",
    "            \n",
    "            - String Type\n",
    "            \n",
    "            - List Type\n",
    "            \n",
    "            - Dictionary Type   \n",
    "            \n",
    "            \n",
    "- On the other hand, Object Oriented Programming has objects but these objects are divided into **class** instead of types which are:\n",
    "\n",
    "            - String Class\n",
    "            \n",
    "            - List Class\n",
    "            \n",
    "            - Dictionary Class\n",
    "\n",
    "- A class refers to a set of similar objects and they are used more formally in Object Oriented Programming. Recall that in Procedural programming, the function `type` was used to return the nature of the codes which had been passed to assigned variables. Thus, we must bear in mind that *class* and *type* are used interchangeably."
   ]
  },
  {
   "cell_type": "code",
   "execution_count": 1,
   "metadata": {},
   "outputs": [
    {
     "name": "stdout",
     "output_type": "stream",
     "text": [
      "<class 'list'>\n",
      "<class 'str'>\n",
      "<class 'dict'>\n"
     ]
    }
   ],
   "source": [
    "l = [1, 2, 3]\n",
    "s = \"string\"\n",
    "d = {\"a\": 1, \"b\": 2}\n",
    "print (type(l))\n",
    "print (type(s))\n",
    "print (type(d))"
   ]
  },
  {
   "cell_type": "markdown",
   "metadata": {},
   "source": [
    "- When we ran the codes above, we saw that it returned to us a result labelled with *class*. This is a pointer to the fact that the two words: *class* and *type* are used interchangeably.\n",
    "\n",
    "\n",
    "- Going forward, we are going to learn how *classes* work by creating one of our very own which will possess the basic functionality of the *list* class.\n",
    "\n",
    "\n",
    "- Let us now define the words - *objects* and *class* - in order to understand the relationship between them:\n",
    "\n",
    "            - An object is an entity that stores data.\n",
    "            \n",
    "            - The object's class defines the specific properties which the objects of that class will fundamentally have.\n",
    "\n",
    "\n",
    "- A way to understand this is to compare real-world objects. Let us compare Tesla electric cars:\n",
    "\n",
    "    - There are hundreds of thousands of Tesla cars around the world. \n",
    "    \n",
    "    - Each car is similar in that it is a Tesla — it's not a Ford or Toyota — but at the same time, it is not necessarily identical to other Teslas. We would say that each of the cars are objects that belong to the Tesla class.\n",
    "\n",
    "    - Tesla has a blueprint — or plan — for making their cars. The blueprint defines what the car is, what it does, and how — everything that makes the car unique. \n",
    "      \n",
    "    - That said, the blueprint isn't a car, it's just all the information needed to create the car. Similarly, in Python, we have code blueprints for classes. These blueprints are **class definitions**.\n",
    "    \n",
    "    \n",
    "- It is necessary that we learn how to create class definitions. To do this, we apply the same approach used for creating functions. We define the function with brackets and a colon and the rest follows. Kindly note that the **rules for creating functions** also apply when we are naming classes. These rules are:\n",
    "\n",
    "    - We must use only letters, numbers, or underscores.\n",
    "    \n",
    "    - We cannot use apostrophes, hyphens, whitespace characters, etc.\n",
    "\n",
    "    - Class names can't start with a number. \n",
    "    \n",
    "\n",
    "- When creating functions under variables, there is a convention with lettes as we use what is called the **Snake Case** when naming our function. This is shown as: \"name_function\". With this convention, all lowercase letters are separated using underscores.\n",
    "\n",
    "\n",
    "- On the other hand, for OOP, we are required to use the **Pascal Case** when creating our class definitions. This is depicted as: \"NameFunction\" where the words start with an initial capitalization and they are rather joined together.\n",
    "\n",
    "\n",
    "- However, if we create functions or class definitions without filling the blocks with inputs, we would end up with a `Syntax Error`. We want to avoid this, so, we would use the Python function `pass()` which will follow the name of the function and help avoid the error. \n",
    "\n",
    "\n",
    "- The `pass` statement is useful when we are writing complex codes and we want to create a placeholder for a function which we intend to build later without causing a code error.\n",
    "    \n",
    "    \n",
    "- Let us go ahead and create class definitions ourselves."
   ]
  },
  {
   "cell_type": "code",
   "execution_count": 3,
   "metadata": {},
   "outputs": [],
   "source": [
    "class NewList():\n",
    "    pass"
   ]
  },
  {
   "cell_type": "markdown",
   "metadata": {},
   "source": [
    "- Under the OOP, we use the **instance** to describe and differentiate each object. For instance, we could write two Python strings but they can hold two different values. What matters is that, they both work in the same way.\n",
    "\n",
    "\n",
    "- **Instantiation** refers to the process of creating an object of a particular class once we have identified the particular class we are dealing with. So, when we create an object of a particular class, we could say that we **instantiate** an object of that class. Thus, whenever we create a particular object such as 'my_int = int(0)', we use the **syntax to the right of the equal to(=) sign to instantiate the object** while we use the **syntax to the left as well as the equal to(=) sign to create the variable.**\n",
    "\n",
    "\n",
    "- So, now we can define the new class we created earlier and instantiate it. Going forward, we would use the same approach to create other class objects."
   ]
  },
  {
   "cell_type": "code",
   "execution_count": 5,
   "metadata": {},
   "outputs": [
    {
     "name": "stdout",
     "output_type": "stream",
     "text": [
      "<class '__main__.NewList'>\n"
     ]
    }
   ],
   "source": [
    "class NewList(): # we create a new class here\n",
    "    pass # we use the pass statement to avoid a syntax error\n",
    "newlist_1 = NewList() # instantiate the object of the class\n",
    "print (type(newlist_1)) # print the type of the object we have instantiated."
   ]
  },
  {
   "cell_type": "markdown",
   "metadata": {},
   "source": [
    "- Now that we have created and instantiated our first class, we need to ensure that we have a class that actually works. To do this, we would need to **define some METHODS**. With the definition of methods, our objects can actually perform certain actions. We could think of methods as properties that belong to a particular class. This explains why, for instance, we call the `str.replace` function instead of the replace function alone. Thus, `replace` belongs to the class `str`.\n",
    "\n",
    "\n",
    "- Recall that the object's class defines the specific properties which the objects of that class will fundamentally have. In this case, we want to incorporate this into the method governing the class.\n",
    "\n",
    "\n",
    "- **Note that** you cannot use the method that belongs to a class with another class. For instance, the `str.replace()` method and the `list.append()` method are totally different and the former cannot be used with the latter and vice-versa.\n",
    "\n",
    "\n",
    "- Let us now create a new method for our class."
   ]
  },
  {
   "cell_type": "code",
   "execution_count": 6,
   "metadata": {},
   "outputs": [
    {
     "name": "stdout",
     "output_type": "stream",
     "text": [
      "<__main__.NewList object at 0x0000026CF7FC79C8>\n"
     ]
    }
   ],
   "source": [
    "class NewList():\n",
    "    def first_method():\n",
    "        return \"This is my first method\"\n",
    "newlist_1 = NewList()\n",
    "print (newlist_1)"
   ]
  },
  {
   "cell_type": "markdown",
   "metadata": {},
   "source": [
    "- In the method we created within the class above, if we try to run the method alone, we would get a Syntax Error. Let us try this and see:"
   ]
  },
  {
   "cell_type": "code",
   "execution_count": 7,
   "metadata": {},
   "outputs": [
    {
     "ename": "TypeError",
     "evalue": "first_method() takes 0 positional arguments but 1 was given",
     "output_type": "error",
     "traceback": [
      "\u001b[1;31m---------------------------------------------------------------------------\u001b[0m",
      "\u001b[1;31mTypeError\u001b[0m                                 Traceback (most recent call last)",
      "\u001b[1;32m<ipython-input-7-22ee0137aaf8>\u001b[0m in \u001b[0;36m<module>\u001b[1;34m\u001b[0m\n\u001b[1;32m----> 1\u001b[1;33m \u001b[0mnewlist_1\u001b[0m\u001b[1;33m.\u001b[0m\u001b[0mfirst_method\u001b[0m\u001b[1;33m(\u001b[0m\u001b[1;33m)\u001b[0m\u001b[1;33m\u001b[0m\u001b[1;33m\u001b[0m\u001b[0m\n\u001b[0m",
      "\u001b[1;31mTypeError\u001b[0m: first_method() takes 0 positional arguments but 1 was given"
     ]
    }
   ],
   "source": [
    "newlist_1.first_method()"
   ]
  },
  {
   "cell_type": "markdown",
   "metadata": {},
   "source": [
    "- According to what we already predicted, we got a TypeError telling us what the reason for the error is. The interpretation to this is that **there is a phantom argument being inserted somewhere** because we did not assign any argument to the method like the TypeError reported.\n",
    "\n",
    "\n",
    "- In other words, what happens when we call on the method which we defined within the class, Python interprets the syntax and adds in an argument representing the same instance we are calling on. This is exactly what causes the error we get. An instance that proves this is shown below:"
   ]
  },
  {
   "cell_type": "code",
   "execution_count": 10,
   "metadata": {},
   "outputs": [
    {
     "name": "stdout",
     "output_type": "stream",
     "text": [
      "<__main__.MyClass object at 0x0000026CF80735C8>\n"
     ]
    }
   ],
   "source": [
    "class MyClass():\n",
    "    def print_self(self):\n",
    "        print(self)\n",
    "\n",
    "mc = MyClass()\n",
    "print (mc)"
   ]
  },
  {
   "cell_type": "code",
   "execution_count": 9,
   "metadata": {
    "collapsed": true,
    "jupyter": {
     "outputs_hidden": true
    }
   },
   "outputs": [
    {
     "name": "stdout",
     "output_type": "stream",
     "text": [
      "<__main__.MyClass object at 0x0000026CF7DBF348>\n",
      "None\n"
     ]
    }
   ],
   "source": [
    "print (mc.print_self())"
   ]
  },
  {
   "cell_type": "markdown",
   "metadata": {
    "jupyter": {
     "source_hidden": true
    }
   },
   "source": [
    "- The two functions printed above return the same output which proves that the phantom argument is the object itself.\n",
    "\n",
    "\n",
    "- However, we can assign any name that we want to this phantom argument without the class definitions getting confusing. The conventional practice is to name this argument 'self'.\n",
    "\n",
    "\n",
    "- Now let us reform our class definition by assigning a name to our phantom argument which would always pop up and give us an error."
   ]
  },
  {
   "cell_type": "code",
   "execution_count": 11,
   "metadata": {},
   "outputs": [
    {
     "name": "stdout",
     "output_type": "stream",
     "text": [
      "This is my first method\n"
     ]
    }
   ],
   "source": [
    "class NewList():\n",
    "    def first_method(self):\n",
    "        return \"This is my first method\"\n",
    "newlist = NewList()\n",
    "result = newlist.first_method()\n",
    "print(result)"
   ]
  },
  {
   "cell_type": "markdown",
   "metadata": {},
   "source": [
    "- We have learnt about phantom arguments and how they work as well as how we can put our class methods into action to produce meaningful results. However, it should be noted that the method we created in the last cell only took in one argument. But, whenever we call upon a method, they usually take in more than one argument.\n",
    "\n",
    "\n",
    "- So, let us create a class with a method that accepts more than one argument apart from the `self` argument."
   ]
  },
  {
   "cell_type": "code",
   "execution_count": 13,
   "metadata": {},
   "outputs": [
    {
     "name": "stdout",
     "output_type": "stream",
     "text": [
      "[1, 2, 3]\n"
     ]
    }
   ],
   "source": [
    "class NewList():\n",
    "    def return_list(self, input_list):\n",
    "        return input_list\n",
    "newlist = NewList()\n",
    "result = newlist.return_list([1,2,3])\n",
    "print(result)"
   ]
  },
  {
   "cell_type": "markdown",
   "metadata": {},
   "source": [
    "- What we just did with the class and function definition could easily be done without going through that process and this is not always the way our methods will be used going forward. \n",
    "\n",
    "\n",
    "- Objects have the power to store data where data is stored in objects using attributes. **Attributes** can be seen as the special variables that belong to a particular class and they are used to store specific values about each instance of the class.\n",
    "\n",
    "\n",
    "- To specify what is done with the arguments passed into the function during instantiation, we use the `init` method. The `init` method is also called a *constructor* and it runs when an instance is created. The `init` method starts and ends with two underscores. Let us see its application below:"
   ]
  },
  {
   "cell_type": "code",
   "execution_count": 14,
   "metadata": {},
   "outputs": [
    {
     "name": "stdout",
     "output_type": "stream",
     "text": [
      "Hola!\n"
     ]
    }
   ],
   "source": [
    "class MyClass():\n",
    "    def __init__(self, string):\n",
    "        print(string)\n",
    "\n",
    "mc = MyClass(\"Hola!\")"
   ]
  },
  {
   "cell_type": "markdown",
   "metadata": {},
   "source": [
    "- The `init` method is mostly used to store data as an attribute. When we instantiate a new object, Python calls the `init` method and passes in the object. Attributes and Methods are accessed using a dot(.) notation but attributes do not have parentheses like methods. Let's try this:"
   ]
  },
  {
   "cell_type": "code",
   "execution_count": 15,
   "metadata": {},
   "outputs": [
    {
     "name": "stdout",
     "output_type": "stream",
     "text": [
      "Hola!\n"
     ]
    }
   ],
   "source": [
    "class MyClass():\n",
    "    def __init__(self, string):\n",
    "        self.my_attribute = string\n",
    "\n",
    "mc = MyClass(\"Hola!\")\n",
    "print (mc.my_attribute)"
   ]
  },
  {
   "cell_type": "markdown",
   "metadata": {},
   "source": [
    "- An attribute is similar to a variable and is used to store data using the `object.attribute()` syntax while a method is similar to a function and is used to perform actions using the `object.method()` syntax.\n",
    "\n",
    "\n",
    "- Now, let us create a working version of the class we created (NewList). We would modify our class to:\n",
    "\n",
    "    - Accept an argument when we instantiate a class `NewList` object\n",
    "    \n",
    "    - Use the __ init__ method to store the data as an attribute."
   ]
  },
  {
   "cell_type": "code",
   "execution_count": 16,
   "metadata": {},
   "outputs": [
    {
     "name": "stdout",
     "output_type": "stream",
     "text": [
      "[1, 2, 3, 4, 5]\n"
     ]
    }
   ],
   "source": [
    "class NewList():\n",
    "    def __init__(self, initial_state):\n",
    "        self.data = initial_state\n",
    "      \n",
    "my_list= NewList([1,2,3,4,5])\n",
    "print(my_list.data)"
   ]
  },
  {
   "cell_type": "markdown",
   "metadata": {},
   "source": [
    "- The data stored in the class we created now needs to be transformed using a method to recreate its functionality.\n",
    "\n",
    "\n",
    "- To make things clearer, let us transform our method to perform the same functionality as `list.append()` function. Therefore, we need to transform our method to do the following:\n",
    "\n",
    "    - Accepts one argument\n",
    "    \n",
    "    - Changes the underlying value of the object, so the list contains one extra value, which is the argument it has passed.\n",
    "\n",
    "    - Doesn't return any value.\n",
    "    \n",
    "    \n",
    "- This method requires us to add an extra item to a list. It should follow the following logic:"
   ]
  },
  {
   "cell_type": "code",
   "execution_count": 17,
   "metadata": {},
   "outputs": [
    {
     "name": "stdout",
     "output_type": "stream",
     "text": [
      "[1, 2, 3, 4]\n"
     ]
    }
   ],
   "source": [
    "my_list = [1, 2, 3]\n",
    "new_item = 4\n",
    "new_item_list = [new_item]\n",
    "my_list = my_list + new_item_list\n",
    "print(my_list)"
   ]
  },
  {
   "cell_type": "markdown",
   "metadata": {},
   "source": [
    "- Now, let us transform our class and method to accomodate the above changes"
   ]
  },
  {
   "cell_type": "code",
   "execution_count": 20,
   "metadata": {},
   "outputs": [
    {
     "name": "stdout",
     "output_type": "stream",
     "text": [
      "The NewList method result is\n",
      "[1, 2, 3, 4, 5]\n",
      "The new and updated list is:\n",
      "[1, 2, 3, 4, 5, 6]\n"
     ]
    }
   ],
   "source": [
    "class NewList():\n",
    "    def __init__(self, initial_state):\n",
    "        self.data = initial_state\n",
    "# let us now add a new method of append to the class\n",
    "    def append(self,item):\n",
    "        self.data = self.data + [item]\n",
    "\n",
    "# let us now create a list and print it using the NewList class method.\n",
    "my_list = NewList([1,2,3,4,5])\n",
    "print(\"The NewList method result is\")\n",
    "print (my_list.data)\n",
    "# it is time to use the created append method to append an additional number to the list\n",
    "my_list.append(6)\n",
    "print (\"The new and updated list is:\")\n",
    "print (my_list.data)"
   ]
  },
  {
   "cell_type": "markdown",
   "metadata": {},
   "source": [
    "# CONCLUSION\n",
    "\n",
    "- In this lesson, we have learnt: \n",
    "\n",
    "    - What objects, classes, methods, and attributes are.\n",
    "    \n",
    "    - How to create a class and instantiate a new object.\n",
    "    \n",
    "    - How to store attributes inside objects using the init method.\n",
    "    \n",
    "    - How to create methods to transform data and update attributes.\n",
    "    \n",
    "    \n",
    "- Having the knowledge of Object-Oriented Python is fundamental and highly essential to understanding how objects work in Python thus helping you to more efficiently analyse and work with data.\n",
    "\n",
    "- Now, go create that class or function and let me know if you have any questions at all.\n",
    "\n",
    "- Have fun!\n"
   ]
  }
 ],
 "metadata": {
  "kernelspec": {
   "display_name": "Python 3",
   "language": "python",
   "name": "python3"
  },
  "language_info": {
   "codemirror_mode": {
    "name": "ipython",
    "version": 3
   },
   "file_extension": ".py",
   "mimetype": "text/x-python",
   "name": "python",
   "nbconvert_exporter": "python",
   "pygments_lexer": "ipython3",
   "version": "3.7.6"
  }
 },
 "nbformat": 4,
 "nbformat_minor": 4
}
